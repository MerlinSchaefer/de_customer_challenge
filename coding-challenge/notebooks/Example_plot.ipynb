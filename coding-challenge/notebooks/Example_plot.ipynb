{
 "cells": [
  {
   "cell_type": "code",
   "execution_count": 1,
   "id": "ac3053b7",
   "metadata": {},
   "outputs": [],
   "source": [
    "import matplotlib.pyplot as plt\n",
    "import pandas as pd"
   ]
  },
  {
   "cell_type": "markdown",
   "id": "e28f9953",
   "metadata": {},
   "source": [
    "The plot wants to display delivery_qty, sale_qty and return_qty for the selected product and store."
   ]
  },
  {
   "cell_type": "code",
   "execution_count": null,
   "id": "f1d801c1",
   "metadata": {},
   "outputs": [],
   "source": [
    "path_to_file = \"\"\n",
    "\n",
    "### import file ####\n",
    "df = ....\n"
   ]
  },
  {
   "cell_type": "code",
   "execution_count": null,
   "id": "89564a5d",
   "metadata": {},
   "outputs": [],
   "source": [
    "id_store = 100190001\n",
    "id_product = 10010001\n",
    "\n",
    "plotting_data = df.query('id_store == @id_store & id_product == @id_product')\n",
    "plotting_data = plotting_data.sort_values(\"target_date\")\n",
    "\n",
    "plt.figure(figsize=(12, 6))\n",
    "\n",
    "# Plot delivery_qty as a line\n",
    "plt.plot(plotting_data[\"target_date\"], plotting_data[\"delivery_qty\"], color=\"orange\", label=\"Delivery Qty\", linewidth=2)\n",
    "\n",
    "# Plot sales_qty as a bright blue bar\n",
    "plt.bar(plotting_data[\"target_date\"], plotting_data[\"sales_qty\"], color=\"#4FC3F7\", label=\"Sales Qty\")\n",
    "\n",
    "# Plot return_qty as a dark blue bar stacked on top of sales_qty\n",
    "plt.bar(plotting_data[\"target_date\"], plotting_data[\"return_qty\"], bottom=plotting_data[\"sales_qty\"], color=\"#1565C0\", label=\"Return Qty\")\n",
    "\n",
    "plt.xlabel(\"Date\")\n",
    "plt.ylabel(\"Quantity\")\n",
    "plt.title(\"Daily Delivery, Sales, and Returns\")\n",
    "plt.legend()\n",
    "plt.tight_layout()\n",
    "plt.show()"
   ]
  },
  {
   "cell_type": "code",
   "execution_count": null,
   "id": "8a91f8f6",
   "metadata": {},
   "outputs": [],
   "source": [
    "id_store = 100190001\n",
    "id_product = 10010002\n",
    "\n",
    "plotting_data = df.query('id_store == @id_store & id_product == @id_product')\n",
    "plotting_data = plotting_data.sort_values(\"target_date\")\n",
    "\n",
    "plt.figure(figsize=(12, 6))\n",
    "\n",
    "# Plot delivery_qty as a line\n",
    "plt.plot(plotting_data[\"target_date\"], plotting_data[\"delivery_qty\"], color=\"orange\", label=\"Delivery Qty\", linewidth=2)\n",
    "\n",
    "# Plot sales_qty as a bright blue bar\n",
    "plt.bar(plotting_data[\"target_date\"], plotting_data[\"sales_qty\"], color=\"#4FC3F7\", label=\"Sales Qty\")\n",
    "\n",
    "# Plot return_qty as a dark blue bar stacked on top of sales_qty\n",
    "plt.bar(plotting_data[\"target_date\"], plotting_data[\"return_qty\"], bottom=plotting_data[\"sales_qty\"], color=\"#1565C0\", label=\"Return Qty\")\n",
    "\n",
    "plt.xlabel(\"Date\")\n",
    "plt.ylabel(\"Quantity\")\n",
    "plt.title(\"Daily Delivery, Sales, and Returns\")\n",
    "plt.legend()\n",
    "plt.tight_layout()\n",
    "plt.show()"
   ]
  },
  {
   "cell_type": "code",
   "execution_count": null,
   "id": "24f130fd",
   "metadata": {},
   "outputs": [],
   "source": [
    "id_store = 100190001\n",
    "id_product = 10010003\n",
    "\n",
    "plotting_data = df.query('id_store == @id_store & id_product == @id_product')\n",
    "plotting_data = plotting_data.sort_values(\"target_date\")\n",
    "\n",
    "plt.figure(figsize=(12, 6))\n",
    "\n",
    "# Plot delivery_qty as a line\n",
    "plt.plot(plotting_data[\"target_date\"], plotting_data[\"delivery_qty\"], color=\"orange\", label=\"Delivery Qty\", linewidth=2)\n",
    "\n",
    "# Plot sales_qty as a bright blue bar\n",
    "plt.bar(plotting_data[\"target_date\"], plotting_data[\"sales_qty\"], color=\"#4FC3F7\", label=\"Sales Qty\")\n",
    "\n",
    "# Plot return_qty as a dark blue bar stacked on top of sales_qty\n",
    "plt.bar(plotting_data[\"target_date\"], plotting_data[\"return_qty\"], bottom=plotting_data[\"sales_qty\"], color=\"#1565C0\", label=\"Return Qty\")\n",
    "\n",
    "plt.xlabel(\"Date\")\n",
    "plt.ylabel(\"Quantity\")\n",
    "plt.title(\"Daily Delivery, Sales, and Returns\")\n",
    "plt.legend()\n",
    "plt.tight_layout()\n",
    "plt.show()"
   ]
  }
 ],
 "metadata": {
  "kernelspec": {
   "display_name": "CodingChallenge",
   "language": "python",
   "name": "python3"
  },
  "language_info": {
   "codemirror_mode": {
    "name": "ipython",
    "version": 3
   },
   "file_extension": ".py",
   "mimetype": "text/x-python",
   "name": "python",
   "nbconvert_exporter": "python",
   "pygments_lexer": "ipython3",
   "version": "3.9.23"
  }
 },
 "nbformat": 4,
 "nbformat_minor": 5
}
